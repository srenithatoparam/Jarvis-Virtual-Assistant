import speech_recognition as sr
import webbrowser
import pyttsx3
import requests
import google.generativeai as genai  # Imported as genai for Gemini API usage
import os
import json 

# Define a dictionary for music library with song names as keys and YouTube URLs as values.
musicLibrary = {
    "jersey": "https://www.youtube.com/watch?v=-t5b7MrWENk&pp=ygUMamVzcnNleSBzb25n",
    "abhi": "https://www.youtube.com/watch?v=h1bV5A0Mqq4&pp=ygUTYWd5YW50aGF2YXNpIHNvbnVncw%3D%3D",
    "harima": "https://www.youtube.com/watch?v=dnQ83S2XfZQ&pp=ygUNaGFyaW1hIGhhcmltYQ%3D%3D",
    "wolf": "https://www.youtube.com/watch?v=ThCH0U6aJpU&list=PLnrGi_-oOR6wm0Vi-1OsiLiV5ePSPs9oF&index=21"
}

# Initialize recognizer and text-to-speech engine
recognizer = sr.Recognizer()
engine = pyttsx3.init()

# Fetch API keys from environment variables
newsapi_key = os.getenv("NEWS_API_KEY")
gemini_api_key = os.getenv("GEMINI_API_KEY")
weather_api_key = os.getenv("WEATHER_API_KEY")

# Set Gemini API Key
genai.configure(api_key=gemini_api_key)
model = genai.GenerativeModel('gemini-pro')

def speak(text):
    """Convert text to speech."""
    engine.say(text)
    engine.runAndWait()

def aiProcess(command):
    """Process the command through Gemini AI."""
    chat = model.start_chat(history=[])

    # Send the prompt and get the response
    response = chat.send_message(command, stream=True)

    # Process the response (handle streaming if needed)
    for chunk in response:
        if chunk.text:
            print(chunk.text)
            speak(chunk.text)

def processCommand(c):
    """Process commands based on user input."""
    c = c.lower()

    # Command to open websites
    if "open google" in c:
        webbrowser.open("https://google.com")
    elif "open facebook" in c:
        webbrowser.open("https://facebook.com")
    elif "open youtube" in c:
        webbrowser.open("https://youtube.com")
    elif "open linkedin" in c:
        webbrowser.open("https://linkedin.com")
    
    # Search on Google
    elif "search" in c:
        query = c.split("search", 1)[1].strip()
        speak(f"Searching for {query} on Google")
        webbrowser.open(f"https://www.google.com/search?q={query}")
    
    # Command to play music
    elif c.startswith("play"):
        song = c.split("play", 1)[1].strip()
        link = musicLibrary.get(song, None)
        if link:
            webbrowser.open(link)
            speak(f"Playing {song} from YouTube")
        else:
            speak(f"Sorry, I couldn't find {song} in the music library.")
    
    # Fetch news
    elif "news" in c:
        try:
            response = requests.get(f"https://newsapi.org/v2/top-headlines?country=in&apiKey={newsapi_key}")
            if response.status_code == 200:
                articles = response.json().get('articles', [])
                if articles:
                    speak("Here are the top 5 headlines:")
                    for article in articles[:5]:
                        speak(article['title'])
                else:
                    speak("Sorry, there are no news articles available right now.")
            else:
                speak("Sorry, I couldn't fetch the news.")
        except Exception as e:
            print(f"Error fetching news: {e}")
            speak("There was an issue retrieving the news.")

    # Weather Information
    elif "weather" in c:
        try:
            city = c.split("weather in", 1)[1].strip()
            url = f"http://api.openweathermap.org/data/2.5/weather?q={city}&appid={weather_api_key}"
            response = requests.get(url)
            weather_data = response.json()
            if weather_data["cod"] == 200:
                main = weather_data["main"]
                weather = weather_data["weather"][0]["description"]
                temp = main["temp"] - 273.15
                speak(f"The weather in {city} is {weather} with a temperature of {temp:.2f}°C.")
            else:
                speak(f"Sorry, I couldn't fetch the weather for {city}.")
        except Exception as e:
            speak("There was an issue retrieving the weather information.")
            print(f"Error fetching weather: {e}")

    # Other generic commands
    elif "hello" in c:
        speak("Hello, how can I assist you?")
    elif "goodbye" in c:
        speak("Goodbye!")

    # AI assistance for other requests
    else:
        output = aiProcess(c)
        speak(output)

if __name__ == "__main__":
    speak("Initializing Jarvis....")
    while True:
        r = sr.Recognizer()
        print("recognizing...")
        try:
            with sr.Microphone() as source:
                print("Listening...")
                audio = r.listen(source, timeout=5, phrase_time_limit=3)
            word = r.recognize_google(audio)
            if word.lower() == "jarvis":
                speak("Yes?")
                with sr.Microphone() as source:
                    print("Jarvis Active...")
                    audio = r.listen(source)
                    command = r.recognize_google(audio)
                    processCommand(command)

        except sr.WaitTimeoutError:
            print("Listening timed out while waiting for phrase to start.")
        except sr.UnknownValueError:
            print("Could not understand the audio.")
        except Exception as e:
            print(f"Error: {e}")
